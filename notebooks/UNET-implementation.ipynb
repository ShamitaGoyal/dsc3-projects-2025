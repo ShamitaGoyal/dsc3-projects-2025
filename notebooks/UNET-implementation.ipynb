{
 "cells": [
  {
   "cell_type": "markdown",
   "id": "4ab907c1-aab0-41b1-81ad-1e7f824132ea",
   "metadata": {},
   "source": [
    "# U-Net Implementation"
   ]
  },
  {
   "cell_type": "markdown",
   "id": "afc62a80-f05b-4d20-a5f1-0300e72d5e6f",
   "metadata": {},
   "source": [
    "For this implementation of a modified U-Net, I used the PyTorch libraries to structure the model. I also used some scikit-learn, NumPy, and matplotlib for some visualizations, pandas to load in the labels from the dataset, and PIL to load in the images itself."
   ]
  },
  {
   "cell_type": "code",
   "execution_count": 1,
   "id": "9f484260-6fe0-4403-9a81-66949bd2ddb3",
   "metadata": {
    "id": "9f484260-6fe0-4403-9a81-66949bd2ddb3"
   },
   "outputs": [],
   "source": [
    "# import statements\n",
    "import torch\n",
    "import torch.nn as nn\n",
    "import torchvision.models as models\n",
    "from torchvision import datasets, transforms\n",
    "from torch.utils.data import DataLoader, Dataset, random_split\n",
    "import torch.optim as optim\n",
    "\n",
    "from sklearn.metrics import confusion_matrix, ConfusionMatrixDisplay\n",
    "\n",
    "import pandas as pd\n",
    "import numpy as np\n",
    "import matplotlib.pyplot as plt\n",
    "\n",
    "import os\n",
    "from PIL import Image\n",
    "from tqdm import tqdm"
   ]
  },
  {
   "cell_type": "code",
   "execution_count": 2,
   "id": "e3cc23a1-0b91-4395-b9f0-e7e3618f9d45",
   "metadata": {},
   "outputs": [],
   "source": [
    "# defining magic function so that certain cells do not run again\n",
    "from IPython.core.magic import register_cell_magic\n",
    "@register_cell_magic\n",
    "def skip(line, cell):\n",
    "    return"
   ]
  },
  {
   "cell_type": "markdown",
   "id": "6e827ea1-7e78-4c48-996d-586732d74b8e",
   "metadata": {
    "id": "6e827ea1-7e78-4c48-996d-586732d74b8e"
   },
   "source": [
    "### Reading in the dataset through Pandas"
   ]
  },
  {
   "cell_type": "markdown",
   "id": "18c5507c-d08a-4f64-b45b-623b71aabfec",
   "metadata": {},
   "source": [
    "In a separate file, I cleaned through the original csv file that the BreakHis dataset gave to its users, so that the training data was separated from the testing data, and could be more easily utilized later on when defining our dataset variables. In addition, I extracted out the category and tumor type from the filename, and made them into their own columns, `category` and `tumor_type`."
   ]
  },
  {
   "cell_type": "code",
   "execution_count": 3,
   "id": "2f59ee8b-8c06-4168-b220-6ee2875b8fd4",
   "metadata": {},
   "outputs": [],
   "source": [
    "# reading in dataset labels\n",
    "training_set = pd.read_csv('training_set.csv')\n",
    "testing_set = pd.read_csv('testing_set.csv')"
   ]
  },
  {
   "cell_type": "code",
   "execution_count": 4,
   "id": "e9aa6f41-e229-4e6f-b388-6fdbf1eeaf0c",
   "metadata": {},
   "outputs": [
    {
     "data": {
      "text/html": [
       "<div>\n",
       "<style scoped>\n",
       "    .dataframe tbody tr th:only-of-type {\n",
       "        vertical-align: middle;\n",
       "    }\n",
       "\n",
       "    .dataframe tbody tr th {\n",
       "        vertical-align: top;\n",
       "    }\n",
       "\n",
       "    .dataframe thead th {\n",
       "        text-align: right;\n",
       "    }\n",
       "</style>\n",
       "<table border=\"1\" class=\"dataframe\">\n",
       "  <thead>\n",
       "    <tr style=\"text-align: right;\">\n",
       "      <th></th>\n",
       "      <th>fold</th>\n",
       "      <th>mag</th>\n",
       "      <th>grp</th>\n",
       "      <th>filename</th>\n",
       "      <th>category</th>\n",
       "      <th>tumor_type</th>\n",
       "    </tr>\n",
       "  </thead>\n",
       "  <tbody>\n",
       "    <tr>\n",
       "      <th>0</th>\n",
       "      <td>1</td>\n",
       "      <td>100</td>\n",
       "      <td>train</td>\n",
       "      <td>dataset/train/SOB_B_A-14-22549AB-100-001.png</td>\n",
       "      <td>benign</td>\n",
       "      <td>adenosis</td>\n",
       "    </tr>\n",
       "    <tr>\n",
       "      <th>1</th>\n",
       "      <td>1</td>\n",
       "      <td>100</td>\n",
       "      <td>train</td>\n",
       "      <td>dataset/train/SOB_B_A-14-22549AB-100-002.png</td>\n",
       "      <td>benign</td>\n",
       "      <td>adenosis</td>\n",
       "    </tr>\n",
       "    <tr>\n",
       "      <th>2</th>\n",
       "      <td>1</td>\n",
       "      <td>100</td>\n",
       "      <td>train</td>\n",
       "      <td>dataset/train/SOB_B_A-14-22549AB-100-003.png</td>\n",
       "      <td>benign</td>\n",
       "      <td>adenosis</td>\n",
       "    </tr>\n",
       "    <tr>\n",
       "      <th>3</th>\n",
       "      <td>1</td>\n",
       "      <td>100</td>\n",
       "      <td>train</td>\n",
       "      <td>dataset/train/SOB_B_A-14-22549AB-100-004.png</td>\n",
       "      <td>benign</td>\n",
       "      <td>adenosis</td>\n",
       "    </tr>\n",
       "    <tr>\n",
       "      <th>4</th>\n",
       "      <td>1</td>\n",
       "      <td>100</td>\n",
       "      <td>train</td>\n",
       "      <td>dataset/train/SOB_B_A-14-22549AB-100-005.png</td>\n",
       "      <td>benign</td>\n",
       "      <td>adenosis</td>\n",
       "    </tr>\n",
       "    <tr>\n",
       "      <th>...</th>\n",
       "      <td>...</td>\n",
       "      <td>...</td>\n",
       "      <td>...</td>\n",
       "      <td>...</td>\n",
       "      <td>...</td>\n",
       "      <td>...</td>\n",
       "    </tr>\n",
       "    <tr>\n",
       "      <th>5000</th>\n",
       "      <td>1</td>\n",
       "      <td>400</td>\n",
       "      <td>train</td>\n",
       "      <td>dataset/train/SOB_M_PC-15-190EF-400-011.png</td>\n",
       "      <td>malignant</td>\n",
       "      <td>papillary_carcinoma</td>\n",
       "    </tr>\n",
       "    <tr>\n",
       "      <th>5001</th>\n",
       "      <td>1</td>\n",
       "      <td>400</td>\n",
       "      <td>train</td>\n",
       "      <td>dataset/train/SOB_M_PC-15-190EF-400-012.png</td>\n",
       "      <td>malignant</td>\n",
       "      <td>papillary_carcinoma</td>\n",
       "    </tr>\n",
       "    <tr>\n",
       "      <th>5002</th>\n",
       "      <td>1</td>\n",
       "      <td>400</td>\n",
       "      <td>train</td>\n",
       "      <td>dataset/train/SOB_M_PC-15-190EF-400-013.png</td>\n",
       "      <td>malignant</td>\n",
       "      <td>papillary_carcinoma</td>\n",
       "    </tr>\n",
       "    <tr>\n",
       "      <th>5003</th>\n",
       "      <td>1</td>\n",
       "      <td>400</td>\n",
       "      <td>train</td>\n",
       "      <td>dataset/train/SOB_M_PC-15-190EF-400-014.png</td>\n",
       "      <td>malignant</td>\n",
       "      <td>papillary_carcinoma</td>\n",
       "    </tr>\n",
       "    <tr>\n",
       "      <th>5004</th>\n",
       "      <td>1</td>\n",
       "      <td>400</td>\n",
       "      <td>train</td>\n",
       "      <td>dataset/train/SOB_M_PC-15-190EF-400-015.png</td>\n",
       "      <td>malignant</td>\n",
       "      <td>papillary_carcinoma</td>\n",
       "    </tr>\n",
       "  </tbody>\n",
       "</table>\n",
       "<p>5005 rows × 6 columns</p>\n",
       "</div>"
      ],
      "text/plain": [
       "      fold  mag    grp                                      filename  \\\n",
       "0        1  100  train  dataset/train/SOB_B_A-14-22549AB-100-001.png   \n",
       "1        1  100  train  dataset/train/SOB_B_A-14-22549AB-100-002.png   \n",
       "2        1  100  train  dataset/train/SOB_B_A-14-22549AB-100-003.png   \n",
       "3        1  100  train  dataset/train/SOB_B_A-14-22549AB-100-004.png   \n",
       "4        1  100  train  dataset/train/SOB_B_A-14-22549AB-100-005.png   \n",
       "...    ...  ...    ...                                           ...   \n",
       "5000     1  400  train   dataset/train/SOB_M_PC-15-190EF-400-011.png   \n",
       "5001     1  400  train   dataset/train/SOB_M_PC-15-190EF-400-012.png   \n",
       "5002     1  400  train   dataset/train/SOB_M_PC-15-190EF-400-013.png   \n",
       "5003     1  400  train   dataset/train/SOB_M_PC-15-190EF-400-014.png   \n",
       "5004     1  400  train   dataset/train/SOB_M_PC-15-190EF-400-015.png   \n",
       "\n",
       "       category           tumor_type  \n",
       "0        benign             adenosis  \n",
       "1        benign             adenosis  \n",
       "2        benign             adenosis  \n",
       "3        benign             adenosis  \n",
       "4        benign             adenosis  \n",
       "...         ...                  ...  \n",
       "5000  malignant  papillary_carcinoma  \n",
       "5001  malignant  papillary_carcinoma  \n",
       "5002  malignant  papillary_carcinoma  \n",
       "5003  malignant  papillary_carcinoma  \n",
       "5004  malignant  papillary_carcinoma  \n",
       "\n",
       "[5005 rows x 6 columns]"
      ]
     },
     "execution_count": 4,
     "metadata": {},
     "output_type": "execute_result"
    }
   ],
   "source": [
    "training_set"
   ]
  },
  {
   "cell_type": "code",
   "execution_count": 5,
   "id": "d20c16ab-f353-440a-aa2c-df2813737b0f",
   "metadata": {},
   "outputs": [
    {
     "data": {
      "text/html": [
       "<div>\n",
       "<style scoped>\n",
       "    .dataframe tbody tr th:only-of-type {\n",
       "        vertical-align: middle;\n",
       "    }\n",
       "\n",
       "    .dataframe tbody tr th {\n",
       "        vertical-align: top;\n",
       "    }\n",
       "\n",
       "    .dataframe thead th {\n",
       "        text-align: right;\n",
       "    }\n",
       "</style>\n",
       "<table border=\"1\" class=\"dataframe\">\n",
       "  <thead>\n",
       "    <tr style=\"text-align: right;\">\n",
       "      <th></th>\n",
       "      <th>fold</th>\n",
       "      <th>mag</th>\n",
       "      <th>grp</th>\n",
       "      <th>filename</th>\n",
       "      <th>category</th>\n",
       "      <th>tumor_type</th>\n",
       "    </tr>\n",
       "  </thead>\n",
       "  <tbody>\n",
       "    <tr>\n",
       "      <th>0</th>\n",
       "      <td>1</td>\n",
       "      <td>100</td>\n",
       "      <td>test</td>\n",
       "      <td>dataset/test/SOB_B_A-14-22549G-100-001.png</td>\n",
       "      <td>benign</td>\n",
       "      <td>adenosis</td>\n",
       "    </tr>\n",
       "    <tr>\n",
       "      <th>1</th>\n",
       "      <td>1</td>\n",
       "      <td>100</td>\n",
       "      <td>test</td>\n",
       "      <td>dataset/test/SOB_B_A-14-22549G-100-002.png</td>\n",
       "      <td>benign</td>\n",
       "      <td>adenosis</td>\n",
       "    </tr>\n",
       "    <tr>\n",
       "      <th>2</th>\n",
       "      <td>1</td>\n",
       "      <td>100</td>\n",
       "      <td>test</td>\n",
       "      <td>dataset/test/SOB_B_A-14-22549G-100-003.png</td>\n",
       "      <td>benign</td>\n",
       "      <td>adenosis</td>\n",
       "    </tr>\n",
       "    <tr>\n",
       "      <th>3</th>\n",
       "      <td>1</td>\n",
       "      <td>100</td>\n",
       "      <td>test</td>\n",
       "      <td>dataset/test/SOB_B_A-14-22549G-100-004.png</td>\n",
       "      <td>benign</td>\n",
       "      <td>adenosis</td>\n",
       "    </tr>\n",
       "    <tr>\n",
       "      <th>4</th>\n",
       "      <td>1</td>\n",
       "      <td>100</td>\n",
       "      <td>test</td>\n",
       "      <td>dataset/test/SOB_B_A-14-22549G-100-005.png</td>\n",
       "      <td>benign</td>\n",
       "      <td>adenosis</td>\n",
       "    </tr>\n",
       "    <tr>\n",
       "      <th>...</th>\n",
       "      <td>...</td>\n",
       "      <td>...</td>\n",
       "      <td>...</td>\n",
       "      <td>...</td>\n",
       "      <td>...</td>\n",
       "      <td>...</td>\n",
       "    </tr>\n",
       "    <tr>\n",
       "      <th>2899</th>\n",
       "      <td>1</td>\n",
       "      <td>400</td>\n",
       "      <td>test</td>\n",
       "      <td>dataset/test/SOB_M_PC-14-15704-400-031.png</td>\n",
       "      <td>malignant</td>\n",
       "      <td>papillary_carcinoma</td>\n",
       "    </tr>\n",
       "    <tr>\n",
       "      <th>2900</th>\n",
       "      <td>1</td>\n",
       "      <td>400</td>\n",
       "      <td>test</td>\n",
       "      <td>dataset/test/SOB_M_PC-14-15704-400-032.png</td>\n",
       "      <td>malignant</td>\n",
       "      <td>papillary_carcinoma</td>\n",
       "    </tr>\n",
       "    <tr>\n",
       "      <th>2901</th>\n",
       "      <td>1</td>\n",
       "      <td>400</td>\n",
       "      <td>test</td>\n",
       "      <td>dataset/test/SOB_M_PC-14-15704-400-033.png</td>\n",
       "      <td>malignant</td>\n",
       "      <td>papillary_carcinoma</td>\n",
       "    </tr>\n",
       "    <tr>\n",
       "      <th>2902</th>\n",
       "      <td>1</td>\n",
       "      <td>400</td>\n",
       "      <td>test</td>\n",
       "      <td>dataset/test/SOB_M_PC-14-15704-400-034.png</td>\n",
       "      <td>malignant</td>\n",
       "      <td>papillary_carcinoma</td>\n",
       "    </tr>\n",
       "    <tr>\n",
       "      <th>2903</th>\n",
       "      <td>1</td>\n",
       "      <td>400</td>\n",
       "      <td>test</td>\n",
       "      <td>dataset/test/SOB_M_PC-14-15704-400-035.png</td>\n",
       "      <td>malignant</td>\n",
       "      <td>papillary_carcinoma</td>\n",
       "    </tr>\n",
       "  </tbody>\n",
       "</table>\n",
       "<p>2904 rows × 6 columns</p>\n",
       "</div>"
      ],
      "text/plain": [
       "      fold  mag   grp                                    filename   category  \\\n",
       "0        1  100  test  dataset/test/SOB_B_A-14-22549G-100-001.png     benign   \n",
       "1        1  100  test  dataset/test/SOB_B_A-14-22549G-100-002.png     benign   \n",
       "2        1  100  test  dataset/test/SOB_B_A-14-22549G-100-003.png     benign   \n",
       "3        1  100  test  dataset/test/SOB_B_A-14-22549G-100-004.png     benign   \n",
       "4        1  100  test  dataset/test/SOB_B_A-14-22549G-100-005.png     benign   \n",
       "...    ...  ...   ...                                         ...        ...   \n",
       "2899     1  400  test  dataset/test/SOB_M_PC-14-15704-400-031.png  malignant   \n",
       "2900     1  400  test  dataset/test/SOB_M_PC-14-15704-400-032.png  malignant   \n",
       "2901     1  400  test  dataset/test/SOB_M_PC-14-15704-400-033.png  malignant   \n",
       "2902     1  400  test  dataset/test/SOB_M_PC-14-15704-400-034.png  malignant   \n",
       "2903     1  400  test  dataset/test/SOB_M_PC-14-15704-400-035.png  malignant   \n",
       "\n",
       "               tumor_type  \n",
       "0                adenosis  \n",
       "1                adenosis  \n",
       "2                adenosis  \n",
       "3                adenosis  \n",
       "4                adenosis  \n",
       "...                   ...  \n",
       "2899  papillary_carcinoma  \n",
       "2900  papillary_carcinoma  \n",
       "2901  papillary_carcinoma  \n",
       "2902  papillary_carcinoma  \n",
       "2903  papillary_carcinoma  \n",
       "\n",
       "[2904 rows x 6 columns]"
      ]
     },
     "execution_count": 5,
     "metadata": {},
     "output_type": "execute_result"
    }
   ],
   "source": [
    "testing_set"
   ]
  },
  {
   "cell_type": "code",
   "execution_count": 6,
   "id": "7632dcc1-b894-415e-a8f7-d277371b1e44",
   "metadata": {},
   "outputs": [
    {
     "data": {
      "text/plain": [
       "(True, True)"
      ]
     },
     "execution_count": 6,
     "metadata": {},
     "output_type": "execute_result"
    }
   ],
   "source": [
    "# ensuring that the number of files in the system match the number in the DataFrames\n",
    "len(os.listdir('dataset/train')) == training_set.shape[0], len(os.listdir('dataset/test')) == testing_set.shape[0]"
   ]
  },
  {
   "cell_type": "markdown",
   "id": "1433f177-5d92-499a-b5ad-7ac127e9306a",
   "metadata": {
    "id": "1433f177-5d92-499a-b5ad-7ac127e9306a"
   },
   "source": [
    "### Implementing the model"
   ]
  },
  {
   "cell_type": "markdown",
   "id": "f296d085-12a6-461d-bc2c-7a1d840e7105",
   "metadata": {},
   "source": [
    "The main use of U-Nets is image segmentation. In biomedical contexts, they are super simple and efficient in identifying organs, blood vessels, lesions, etc. They are also very good at identifying tumors, which is what this project is all about. However, we don't want an identification of where the tumor is. Instead, we want the model to recognize what kind of tumor is shown in the image.\n",
    "\n",
    "Using PyTorch's NN (neural networks) library as a parent class, I modified the U-Net to better suit the purposes of this project. The initial parts of a U-Net are the same, with the convolutional blocks downsampling the image to extract features. Then instead of decoding the downsampled image, the modified U-Net implementation would go through the process of traditional neural network classification. This model doesn't need to decode the downsampled image, since we don't want an image from the model, but a classification instead."
   ]
  },
  {
   "cell_type": "code",
   "execution_count": 7,
   "id": "507efe46-3c62-421b-8861-21225d258d62",
   "metadata": {
    "colab": {
     "base_uri": "https://localhost:8080/"
    },
    "id": "507efe46-3c62-421b-8861-21225d258d62",
    "outputId": "6352264a-13d2-4e98-fab3-583ca6817187"
   },
   "outputs": [],
   "source": [
    "# model class\n",
    "class UNetEncoder(nn.Module):\n",
    "    # inherit from torch.nn.Module\n",
    "    def __init__(self, num_classes):\n",
    "        super().__init__()\n",
    "\n",
    "        # u-net encoder\n",
    "        self.encoder = nn.ModuleList([\n",
    "            self.conv_block(3, 64), \n",
    "            self.conv_block(64, 128),  \n",
    "            self.conv_block(128, 256), \n",
    "            self.conv_block(256, 512), \n",
    "            self.conv_block(512, 1024) \n",
    "        ])\n",
    "\n",
    "        # global pooling to replace the u-net decoder\n",
    "        self.global_pool = nn.AdaptiveAvgPool2d((1, 1))\n",
    "\n",
    "        # classification part\n",
    "        self.fc = nn.Linear(1024, num_classes)\n",
    "\n",
    "    # implementation of a u-net convolutional block\n",
    "    def conv_block(self, in_channels, out_channels):\n",
    "        return nn.Sequential(\n",
    "            nn.Conv2d(in_channels, out_channels, kernel_size=3, padding=1),\n",
    "            nn.ReLU(inplace=True),\n",
    "            nn.Conv2d(out_channels, out_channels, kernel_size=3, padding=1),\n",
    "            nn.ReLU(inplace=True),\n",
    "            nn.MaxPool2d(kernel_size=2, stride=2) \n",
    "        )\n",
    "\n",
    "    def forward(self, x):\n",
    "        for layer in self.encoder:\n",
    "            x = layer(x)\n",
    "\n",
    "        x = self.global_pool(x) \n",
    "        x = torch.flatten(x, 1) \n",
    "        x = self.fc(x) \n",
    "        return x"
   ]
  },
  {
   "cell_type": "markdown",
   "id": "07f4afbf-be6e-48ef-af36-c25ab31c66ea",
   "metadata": {},
   "source": [
    "### Dataset Preprocessing for the Model"
   ]
  },
  {
   "cell_type": "markdown",
   "id": "3ad3c1de-341d-4507-bfd7-86e6739bda3a",
   "metadata": {},
   "source": [
    "Fortunately, the BreakHis dataset is super clean as-is. Unfortunately, the model cannot just take those images as-is. In order to accomplish this, I utilized the PyTorch Dataset and Dataloader. The PyTorch Dataset is able to hold our images and labels at the same time, while the Dataloader is an iterator that can feed the model images in batches, which speeds up the process if the program is ran on the cuda and parallelized."
   ]
  },
  {
   "cell_type": "code",
   "execution_count": 8,
   "id": "582b054d-70b3-463e-b758-47df257740e6",
   "metadata": {
    "id": "582b054d-70b3-463e-b758-47df257740e6"
   },
   "outputs": [],
   "source": [
    "class ImageDataset(Dataset):\n",
    "    def __init__(self, filepaths, labels, transform=None):\n",
    "        \"\"\"\n",
    "        Custom PyTorch Dataset to load images from file paths in a Pandas Series,\n",
    "        and convert string labels into numerical labels.\n",
    "\n",
    "        :param filepaths: Pandas Series containing file paths to images\n",
    "        :param labels: Pandas Series containing string labels\n",
    "        :param transform: Image transformations to apply\n",
    "        \"\"\"\n",
    "        self.filepaths = filepaths.tolist()\n",
    "        self.transform = transform\n",
    "\n",
    "        # map string labels to numerical values\n",
    "        self.label_mapping = {label: idx for idx, label in enumerate(sorted(labels.unique()))}\n",
    "        self.labels = labels.map(self.label_mapping).tolist()\n",
    "\n",
    "    def __len__(self):\n",
    "        return len(self.filepaths)\n",
    "\n",
    "    def __getitem__(self, idx):\n",
    "        img_path = self.filepaths[idx] \n",
    "        image = Image.open(img_path).convert(\"RGB\")  \n",
    "        label = self.labels[idx]  \n",
    "\n",
    "        if self.transform:\n",
    "            image = self.transform(image) \n",
    "\n",
    "        return image, label"
   ]
  },
  {
   "cell_type": "markdown",
   "id": "98d9aa29-0021-4ad5-903f-5df478fb38ee",
   "metadata": {},
   "source": [
    "Here, we are computing the mean and standard deviation of the pixels in the image in order to standardize the colors in the dataset, to help the model train better."
   ]
  },
  {
   "cell_type": "code",
   "execution_count": 9,
   "id": "9a89a98c-32a4-41a7-8872-c90b749e4871",
   "metadata": {},
   "outputs": [
    {
     "name": "stderr",
     "output_type": "stream",
     "text": [
      "100%|██████████| 157/157 [01:47<00:00,  1.46it/s]"
     ]
    },
    {
     "name": "stdout",
     "output_type": "stream",
     "text": [
      "Mean: tensor([0.7900, 0.6163, 0.7615])\n",
      "Standard deviation: tensor([0.1030, 0.1375, 0.0877])\n"
     ]
    },
    {
     "name": "stderr",
     "output_type": "stream",
     "text": [
      "\n"
     ]
    }
   ],
   "source": [
    "transformations = transforms.Compose([\n",
    "    transforms.Resize((760, 400)),\n",
    "    transforms.ToTensor()\n",
    "])\n",
    "training_dataset = ImageDataset(training_set['filename'], training_set['tumor_type'], transform=transformations)\n",
    "training_loader = DataLoader(training_dataset, batch_size=32, shuffle=False)\n",
    "\n",
    "mean = torch.zeros(3)\n",
    "std = torch.zeros(3)\n",
    "total_images = 0\n",
    "\n",
    "# iterate through images\n",
    "for images, _ in tqdm(training_loader):\n",
    "    batch_samples = images.size(0)\n",
    "    images = images.view(batch_samples, 3, -1)\n",
    "    \n",
    "    mean += images.mean(dim=2).sum(dim=0)\n",
    "    std += images.std(dim=2).sum(dim=0)\n",
    "    total_images += batch_samples\n",
    "\n",
    "mean /= total_images\n",
    "std /= total_images\n",
    "\n",
    "print(f\"Mean: {mean}\")\n",
    "print(f\"Standard deviation: {std}\")"
   ]
  },
  {
   "cell_type": "markdown",
   "id": "e1c958ed-31e2-4b64-89d8-c070d6b24c6e",
   "metadata": {},
   "source": [
    "Here, we are creating our training and testing sets using our modified PyTorch Dataset. I am transforming the data randomly to create some sort of variance in the dataset, so that the model doesn't just memorize certain patterns. The random transformations I am using are vertical and horizontal flips, which exposes the model to images in different orientations."
   ]
  },
  {
   "cell_type": "code",
   "execution_count": 10,
   "id": "a3480ac2-db47-48e3-93c7-942d3e3e8c66",
   "metadata": {
    "colab": {
     "base_uri": "https://localhost:8080/"
    },
    "id": "068b60af-518d-44fb-a902-056e3533d1f6",
    "outputId": "41158625-9aea-4ca1-f8eb-3820a957867c"
   },
   "outputs": [],
   "source": [
    "# transformations to create random variance in the dataset\n",
    "transform_training = transforms.Compose([\n",
    "    transforms.Resize((760, 400)),  # Ensure size is consistent\n",
    "    transforms.RandomHorizontalFlip(p=0.5),  # Flip images horizontally 50% of the time\n",
    "    transforms.RandomVerticalFlip(p=0.5),    # Flip images vertically 50% of the time\n",
    "    transforms.ToTensor(),  # Convert to tensor\n",
    "    transforms.Normalize(mean=[0.7900, 0.6163, 0.7615], std=[0.1030, 0.1375, 0.0877])\n",
    "])\n",
    "\n",
    "training_dataset = ImageDataset(training_set['filename'], training_set['tumor_type'], transform=transform_training)"
   ]
  },
  {
   "cell_type": "code",
   "execution_count": 11,
   "id": "QP9pZ5etSlTy",
   "metadata": {
    "id": "QP9pZ5etSlTy"
   },
   "outputs": [],
   "source": [
    "transform_testing = transforms.Compose([\n",
    "    transforms.Resize((760, 400)),  # Ensure size is consistent\n",
    "    transforms.RandomHorizontalFlip(p=0.5),  # Flip images horizontally 50% of the time\n",
    "    transforms.RandomVerticalFlip(p=0.5),    # Flip images vertically 50% of the time\n",
    "    transforms.ToTensor(),  # Convert to tensor\n",
    "    transforms.Normalize(mean=[0.7900, 0.6163, 0.7615], std=[0.1030, 0.1375, 0.0877])\n",
    "])\n",
    "\n",
    "testing_dataset = ImageDataset(testing_set['filename'], testing_set['tumor_type'], transform=transform_testing)"
   ]
  },
  {
   "cell_type": "code",
   "execution_count": 12,
   "id": "fcba79db-f905-48a1-9ded-14889ea33939",
   "metadata": {
    "scrolled": true
   },
   "outputs": [
    {
     "name": "stdout",
     "output_type": "stream",
     "text": [
      "Label Mapping: {'adenosis': 0, 'ductal_carcinoma': 1, 'fibroadenoma': 2, 'lobular_carcinoma': 3, 'mucinous_carcinoma': 4, 'papillary_carcinoma': 5, 'phyllodes_tumor': 6, 'tubular_adenoma': 7}\n"
     ]
    }
   ],
   "source": [
    "# label mapping\n",
    "print(f'Label Mapping: {testing_dataset.label_mapping}')"
   ]
  },
  {
   "cell_type": "markdown",
   "id": "161bf46d-ea5d-4065-b329-dd28066d9f95",
   "metadata": {},
   "source": [
    "### Actually Training the Model!"
   ]
  },
  {
   "cell_type": "markdown",
   "id": "f1bd0d28-bc75-419b-982c-7a75d8e75b4b",
   "metadata": {},
   "source": [
    "Here, I am defining any constants before entering the training loop.\n",
    "<ul>\n",
    "    <li><code>num_epochs</code>: the number of times should the training loop should iterate (this number is not that significant for later reasons)</li>\n",
    "    <li><code>device</code>: the device (cuda/cpu) the training loops should be done on (this will be the cuda almost everytime)</li>\n",
    "    <li><code>patience</code>: the reason why <code>num_epochs</code> doesn't really matter, specifies how many iterations the models will keep going for after not improving (this is to prevent significant overfitting)</li>\n",
    "    <li><code>model</code>: the model itself</li>\n",
    "    <li><code>criterion</code>: the loss function used to measure the performance of the model (in this training loop, we used cross-entropy)</li>\n",
    "    <li><code>optimizer</code>: an algorithm used for gradient descent (in other words, tells the model how it should improve in future training iterations)</li>\n",
    "</ul>"
   ]
  },
  {
   "cell_type": "code",
   "execution_count": 13,
   "id": "7aaddde1-e2e3-4a24-a7eb-e2e6bf3f3601",
   "metadata": {},
   "outputs": [],
   "source": [
    "# define constants\n",
    "num_epochs = 50\n",
    "device = torch.device(\"cuda\" if torch.cuda.is_available() else \"cpu\")\n",
    "patience = 0\n",
    "model = UNetEncoder(num_classes=8).to(device)\n",
    "criterion = nn.CrossEntropyLoss()\n",
    "optimizer = optim.Adam(model.parameters(), lr=0.0001)"
   ]
  },
  {
   "cell_type": "markdown",
   "id": "d3a5a66f-4ae9-4025-890e-2959972c3694",
   "metadata": {},
   "source": [
    "Here, I am splitting 10% of the dataset into a validation set. This is for the algorithm to measure how it's doing on unseen data. The validation data is also what the model will use to see if it is improving or not (and thus, run out of patience and stop training)."
   ]
  },
  {
   "cell_type": "code",
   "execution_count": 14,
   "id": "2bcab54a-a80c-4fc0-ab31-7fc6c83a57f3",
   "metadata": {},
   "outputs": [],
   "source": [
    "# split the dataset\n",
    "val_size = int(0.1 * training_set.shape[0])\n",
    "train_size = training_set.shape[0] - val_size\n",
    "training_dataset, validation_dataset = random_split(training_dataset, [train_size, val_size], generator=torch.Generator().manual_seed(45))\n",
    "\n",
    "# initialize training and validation loaders\n",
    "train_loader = DataLoader(training_dataset, batch_size=8, shuffle=True)\n",
    "validation_loader = DataLoader(validation_dataset, batch_size=8, shuffle=True)"
   ]
  },
  {
   "cell_type": "markdown",
   "id": "34d12b2f-edfe-494f-bf89-d40062ab4cec",
   "metadata": {},
   "source": [
    "Here is the code that actually trains the model! \n",
    "\n",
    "Side note: the magic function `%%skip` is for me to run the Jupyter notebook cells without training the model again."
   ]
  },
  {
   "cell_type": "code",
   "execution_count": 15,
   "id": "435437e2-d930-49ed-93fd-155b3e3168cb",
   "metadata": {
    "colab": {
     "base_uri": "https://localhost:8080/"
    },
    "id": "435437e2-d930-49ed-93fd-155b3e3168cb",
    "outputId": "06b9254a-5372-420f-8179-ca35b2cd49ef"
   },
   "outputs": [],
   "source": [
    "%%skip\n",
    "\n",
    "# training model\n",
    "for epoch in range(num_epochs):\n",
    "    # train model\n",
    "    model.train()\n",
    "    progress_bar = tqdm(train_loader, desc=f\"Epoch {epoch+1}/{num_epochs}\")\n",
    "    for images, labels in progress_bar:\n",
    "        images, labels = images.to(device), labels.to(device)\n",
    "        optimizer.zero_grad()\n",
    "        outputs = model(images)\n",
    "        loss = criterion(outputs, labels)\n",
    "        loss.backward()\n",
    "        optimizer.step()\n",
    "\n",
    "    # validation \n",
    "    model.eval()\n",
    "    val_correct = 0\n",
    "    val_total = 0\n",
    "    val_loss = 0.0\n",
    "    with torch.no_grad():\n",
    "        for val_images, val_labels in validation_loader:\n",
    "            val_images, val_labels = val_images.to(device), val_labels.to(device)\n",
    "            val_outputs = model(val_images)\n",
    "            val_loss += criterion(val_outputs, val_labels).item()\n",
    "\n",
    "            _, predicted = torch.max(val_outputs, 1)\n",
    "            val_correct += (predicted == val_labels).sum().item()\n",
    "            val_total += val_labels.size(0)\n",
    "\n",
    "    avg_val_loss = val_loss / len(validation_loader)\n",
    "    val_accuracy = 100 * val_correct / val_total\n",
    "    print(f\"Validation Loss: {avg_val_loss:.4f}, Validation Accuracy: {val_accuracy:.2f}%\")\n",
    "\n",
    "    # considering the model's patience...\n",
    "    if avg_val_loss < best_val_loss - 0.02:\n",
    "        patience = 0\n",
    "        best_val_loss = avg_val_loss\n",
    "        torch.save(model.state_dict(), f\"models/best_model.pth\")\n",
    "        print(f'model saved with validation loss of {best_val_loss}')\n",
    "    else:\n",
    "        patience += 1\n",
    "        if patience == 3:\n",
    "            print(f'reached patience of 3 on epoch {epoch}')\n",
    "            break"
   ]
  },
  {
   "cell_type": "markdown",
   "id": "26c542c6-a7e3-47d4-b199-f10d52ef2bba",
   "metadata": {},
   "source": [
    "### Evaluating the Model"
   ]
  },
  {
   "cell_type": "markdown",
   "id": "10a027d4-0a81-4373-93e5-6384bcb83833",
   "metadata": {},
   "source": [
    "Now that we've trained the model, let's see how we've done! Let's load in the best iteration of our model, and test it on the BreakHis testing set that we set aside earlier."
   ]
  },
  {
   "cell_type": "code",
   "execution_count": 16,
   "id": "6cd8c23e-69df-4090-93a7-f355652037a1",
   "metadata": {},
   "outputs": [],
   "source": [
    "# loading in the model after training\n",
    "model = UNetEncoder(num_classes=8)\n",
    "model.load_state_dict(torch.load(f'models/best_model.pth'))\n",
    "model.to(device)\n",
    "testing_loader = DataLoader(testing_dataset)"
   ]
  },
  {
   "cell_type": "code",
   "execution_count": 17,
   "id": "11c6deda-d32c-4980-9e01-adf4512becac",
   "metadata": {
    "scrolled": true
   },
   "outputs": [
    {
     "name": "stderr",
     "output_type": "stream",
     "text": [
      "100%|██████████| 2904/2904 [01:58<00:00, 24.42it/s]\n"
     ]
    }
   ],
   "source": [
    "# evaluate model on testing set\n",
    "model.eval() \n",
    "test_actual = []\n",
    "test_predicted = []\n",
    "\n",
    "with torch.no_grad():\n",
    "    for test_images, test_labels in tqdm(testing_loader):\n",
    "        test_images, test_labels = test_images.to(device), test_labels.to(device)\n",
    "        test_outputs = model(test_images)\n",
    "\n",
    "        _, predicted = torch.max(test_outputs, 1)\n",
    "\n",
    "        test_actual.append(test_labels.cpu())\n",
    "        test_predicted.append(predicted.cpu())"
   ]
  },
  {
   "cell_type": "code",
   "execution_count": 18,
   "id": "faffec03-a68d-4966-bdcf-901d2f593f56",
   "metadata": {},
   "outputs": [
    {
     "name": "stdout",
     "output_type": "stream",
     "text": [
      "Test Accuracy: 41.77%\n"
     ]
    }
   ],
   "source": [
    "# testing accuracy for trained model...\n",
    "test_actual = torch.cat(test_actual).numpy()\n",
    "test_predicted = torch.cat(test_predicted).numpy()\n",
    "test_results = test_actual == test_predicted\n",
    "test_accuracy = test_results.mean() * 100\n",
    "print(f'Test Accuracy: {test_accuracy:.2f}%')"
   ]
  },
  {
   "cell_type": "markdown",
   "id": "7fbda2d6-389d-401e-bae6-65a34180b215",
   "metadata": {},
   "source": [
    "As we can see, the results aren't great... \n",
    "\n",
    "Let's visualize this!"
   ]
  },
  {
   "cell_type": "code",
   "execution_count": 19,
   "id": "ddd8f9ae-b4d2-4a78-a74d-c109d413f173",
   "metadata": {},
   "outputs": [
    {
     "data": {
      "image/png": "[encoded data removed]",
      "text/plain": [
       "<Figure size 640x480 with 2 Axes>"
      ]
     },
     "metadata": {},
     "output_type": "display_data"
    }
   ],
   "source": [
    "# create multiclass confusion matrix\n",
    "cm = confusion_matrix(test_actual, test_predicted)\n",
    "\n",
    "fig = ConfusionMatrixDisplay(confusion_matrix=cm) \n",
    "fig.plot(cmap=plt.cm.Blues)\n",
    "plt.title(\"Multiclass Confusion Matrix\")\n",
    "plt.show()"
   ]
  },
  {
   "cell_type": "code",
   "execution_count": 20,
   "id": "eaa855d4-1d8c-4874-98e1-c39fecc658c8",
   "metadata": {},
   "outputs": [
    {
     "data": {
      "text/plain": [
       "{'adenosis': 0,\n",
       " 'ductal_carcinoma': 1,\n",
       " 'fibroadenoma': 2,\n",
       " 'lobular_carcinoma': 3,\n",
       " 'mucinous_carcinoma': 4,\n",
       " 'papillary_carcinoma': 5,\n",
       " 'phyllodes_tumor': 6,\n",
       " 'tubular_adenoma': 7}"
      ]
     },
     "execution_count": 20,
     "metadata": {},
     "output_type": "execute_result"
    }
   ],
   "source": [
    "# labels for reference\n",
    "testing_dataset.label_mapping"
   ]
  },
  {
   "cell_type": "markdown",
   "id": "d205af62-8aae-42c7-b756-273829047bfd",
   "metadata": {},
   "source": [
    "Each of the labels map to a type of tumor. The mapping can The testing set was super heavy on tumors with ductal carcinoma, and our model also heavily predicted ductal carcinoma, even when the tumor was not. Let's see if the model was correct on a binary scale (classifying whether a tumor was a benign type or malignant type)."
   ]
  },
  {
   "cell_type": "code",
   "execution_count": 21,
   "id": "d8a6f853-48ea-4834-936b-8a42c88518b4",
   "metadata": {},
   "outputs": [],
   "source": [
    "# translating the model's predictions to a binary scale (benign/malignant)\n",
    "binary_mapping = {0: 'benign', 1: 'malignant', 2: 'benign', 3: 'malignant', 4: 'malignant', 5: 'malignant', 6: 'benign', 7: 'benign'}\n",
    "binary_actual = np.array([binary_mapping[num] for num in test_actual])\n",
    "binary_predicted = np.array([binary_mapping[num] for num in test_predicted])"
   ]
  },
  {
   "cell_type": "code",
   "execution_count": 22,
   "id": "a8aaa5a4-5289-4690-893a-a818df52bae6",
   "metadata": {},
   "outputs": [
    {
     "name": "stdout",
     "output_type": "stream",
     "text": [
      "Binary Accuracy: 81.40%\n"
     ]
    }
   ],
   "source": [
    "# binary accuracy... better!\n",
    "binary_results = binary_actual == binary_predicted\n",
    "binary_accuracy = binary_results.mean() * 100\n",
    "print(f'Binary Accuracy: {binary_accuracy:.2f}%')"
   ]
  },
  {
   "cell_type": "markdown",
   "id": "ccb651b6-5412-4220-8671-9bc30b6cb501",
   "metadata": {},
   "source": [
    "Significantly better!"
   ]
  },
  {
   "cell_type": "code",
   "execution_count": 23,
   "id": "9b074c88-accf-4ac5-b41b-30f6bc786154",
   "metadata": {},
   "outputs": [
    {
     "data": {
      "image/png": "[encoded data removed]",
      "text/plain": [
       "<Figure size 640x480 with 2 Axes>"
      ]
     },
     "metadata": {},
     "output_type": "display_data"
    }
   ],
   "source": [
    "# create binary confusion matrix\n",
    "cm = confusion_matrix(binary_actual, binary_predicted)\n",
    "\n",
    "true_labels = ['benign', 'malignant']\n",
    "disp = ConfusionMatrixDisplay(confusion_matrix=cm, display_labels=true_labels) \n",
    "\n",
    "disp.plot(cmap=plt.cm.Blues)\n",
    "plt.title(\"Binary Confusion Matrix\")\n",
    "plt.show()"
   ]
  },
  {
   "cell_type": "markdown",
   "id": "57fac940-d9d9-4689-9d42-623967c3bea9",
   "metadata": {},
   "source": [
    "When the model predicts that tumor is malignant, how often is it actually right? We can measure this through precision, which is defined as the number of true positive results divided by the total number of positive predictions that the model made. \n",
    "\n",
    "$$\\text{precision} = \\frac{\\text{true positives}}{\\text{true positives + false positives}} = \\frac{1716}{1716 + 360} \\approx 0.827$$\n",
    "\n",
    "This means that the model is correct when predicting malignant tumors about 82.7% of the time.\n",
    "\n",
    "What about correctly identifying malignant tumors? Of all of the images that were malignant, how many did the model actually catch? There's an alternative metric for this, called recall, which is defined as the number of true positive results divided by the number of images that were actually positive.\n",
    "\n",
    "$$\\text{recall} = \\frac{\\text{true positives}}{\\text{true positives + false negatives}} = \\frac{1716}{1716 + 180} \\approx 0.902$$\n",
    "\n",
    "Given a malignant tumor, the model will make the correct prediction around 90.2% of the time.\n",
    "\n",
    "In the context of breast tumors, we want to prioritize recall a little bit more than precision. Recall represents the scenario that a patient has a malignant tumor and our model correctly predicts it. Precision represents the scenario that a patient may or may not have a malignant, and our model predicts that, yes, they do have a malignant tumor. Recall is a little more important in the medical field than precision because doctors would rather incorrectly diagnose a patient and run more tests, than to administer a test and completely miss a life-endangering tumor."
   ]
  }
 ],
 "metadata": {
  "colab": {
   "provenance": []
  },
  "kernelspec": {
   "display_name": "Python 3 (ipykernel)",
   "language": "python",
   "name": "python3"
  },
  "language_info": {
   "codemirror_mode": {
    "name": "ipython",
    "version": 3
   },
   "file_extension": ".py",
   "mimetype": "text/x-python",
   "name": "python",
   "nbconvert_exporter": "python",
   "pygments_lexer": "ipython3",
   "version": "3.11.9"
  }
 },
 "nbformat": 4,
 "nbformat_minor": 5
}
