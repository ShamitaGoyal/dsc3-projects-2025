{
 "cells": [
  {
   "cell_type": "markdown",
   "metadata": {},
   "source": [
    "# Computer Vision Model"
   ]
  },
  {
   "cell_type": "markdown",
   "metadata": {},
   "source": [
    "I worked on creating a computer vision model trained to classify breast tumor histopathology images as benign or malignant, and further into 8 subtypes using deep learning (ResNet18)."
   ]
  },
  {
   "cell_type": "markdown",
   "metadata": {},
   "source": [
    "### Library Imports\n",
    "\n",
    "To start I imported all essential libraries for deep learning, data handling, image processing, and training visualization:\n",
    "\n",
    "- `torch`, `torchvision`: model building and image transforms\n",
    "- `PIL.Image`: image loading\n",
    "- `pandas`, `os`: dataset and path handling\n",
    "- `tqdm`: training progress bars\n",
    "- `matplotlib.pyplot`: plotting metrics and evaluation visuals\n"
   ]
  },
  {
   "cell_type": "code",
   "execution_count": 9,
   "metadata": {},
   "outputs": [],
   "source": [
    "import os\n",
    "import pandas as pd\n",
    "from PIL import Image\n",
    "import torch\n",
    "import torch.nn as nn\n",
    "import torch.optim as optim\n",
    "from torch.utils.data import Dataset, DataLoader\n",
    "from torchvision import transforms, models\n",
    "from tqdm import tqdm\n",
    "import matplotlib.pyplot as plt\n"
   ]
  },
  {
   "cell_type": "markdown",
   "metadata": {},
   "source": [
    "### About the Dataset: BreakHis\n",
    "\n",
    "The **BreakHis** dataset contains 9,109 microscopic images of breast tumor tissue from 82 patients.\n",
    "\n",
    "- **Resolution**: 700×460 RGB PNGs\n",
    "- **Magnifications**: 40X, 100X, 200X, 400X\n",
    "- **Tumor Categories**:\n",
    "  - **Benign (0)**: adenosis, fibroadenoma, phyllodes tumor, tubular adenoma\n",
    "  - **Malignant (1)**: ductal carcinoma, lobular carcinoma, mucinous carcinoma, papillary carcinoma\n",
    "- **Split**: Train/Test based on `Folds.csv`\n",
    "\n",
    "To start, I first organized the images into the 8 subtypes"
   ]
  },
  {
   "cell_type": "code",
   "execution_count": 10,
   "metadata": {},
   "outputs": [],
   "source": [
    "class BreakHisDataset(Dataset):\n",
    "    def __init__(self, csv_file, root_dir, train=True, transform=None):\n",
    "        self.data_frame = pd.read_csv(csv_file)\n",
    "        self.root_dir = root_dir\n",
    "        self.transform = transform\n",
    "\n",
    "        if train:\n",
    "            self.data_frame = self.data_frame[self.data_frame['grp'].str.lower() == \"train\"]\n",
    "        else:\n",
    "            self.data_frame = self.data_frame[self.data_frame['grp'].str.lower() == \"test\"]\n",
    "\n",
    "        self.data_frame.reset_index(drop=True, inplace=True)\n",
    "\n",
    "    def __len__(self):\n",
    "        return len(self.data_frame)\n",
    "\n",
    "    def __getitem__(self, idx):\n",
    "        row = self.data_frame.iloc[idx]\n",
    "        filename = row['filename']\n",
    "\n",
    "        img_path = os.path.join(self.root_dir, filename)\n",
    "        image = Image.open(img_path).convert('RGB')\n",
    "\n",
    "        # Label assignment: 0-7 based on tumor type\n",
    "        lower_filename = filename.lower()\n",
    "        if \"adenosis\" in lower_filename:\n",
    "            label = 0  # Benign\n",
    "        elif \"fibroadenoma\" in lower_filename:\n",
    "            label = 1  # Benign\n",
    "        elif \"phyllodes_tumor\" in lower_filename:\n",
    "            label = 2  # Benign\n",
    "        elif \"tubular_adenoma\" in lower_filename:\n",
    "            label = 3  # Benign\n",
    "        elif \"ductal_carcinoma\" in lower_filename:\n",
    "            label = 4  # Malignant\n",
    "        elif \"lobular_carcinoma\" in lower_filename:\n",
    "            label = 5  # Malignant\n",
    "        elif \"mucinous_carcinoma\" in lower_filename:\n",
    "            label = 6  # Malignant\n",
    "        elif \"papillary_carcinoma\" in lower_filename:\n",
    "            label = 7  # Malignant\n",
    "        else:\n",
    "            raise ValueError(f\"Cannot determine label from filename: {filename}\")\n",
    "\n",
    "        if self.transform:\n",
    "            image = self.transform(image)\n",
    "        return image, label\n"
   ]
  },
  {
   "cell_type": "markdown",
   "metadata": {},
   "source": [
    "### Data Loading and Augmentation\n",
    "\n",
    "To prepare the BreakHis dataset for training, I used image transformations and created custom data loaders to organize the training process.\n",
    "\n",
    "Images were processed using `torchvision.transforms` to ensure consistency and compatibility with pretrained deep learning models. Each image was:\n",
    "- **Resized** to 260 × 260 pixels\n",
    "- **Converted** to a PyTorch tensor using `ToTensor()`\n",
    "- **Normalized** using the standard ImageNet mean and standard deviation:\n",
    "  - Mean: `[0.485, 0.456, 0.406]`\n",
    "  - Standard Deviation: `[0.229, 0.224, 0.225]`\n",
    "\n",
    "A custom `BreakHisDataset` class was used to load image file paths and class labels from `Folds.csv` and map tumor subtypes to integer labels for model compatibility\n",
    "\n",
    "PyTorch `DataLoader` objects were created for both the training and validation sets:\n",
    "- **Batch size** was set to 32\n",
    "- **Shuffling** was enabled for the training set to improve generalization\n",
    "- `num_workers=0` was used to avoid multiprocessing issues in Jupyter notebooks"
   ]
  },
  {
   "cell_type": "code",
   "execution_count": 11,
   "metadata": {},
   "outputs": [],
   "source": [
    "transform = transforms.Compose([\n",
    "    transforms.Resize((260, 260)),\n",
    "    transforms.ToTensor(),\n",
    "    transforms.Normalize([0.485, 0.456, 0.406], \n",
    "                         [0.229, 0.224, 0.225])\n",
    "])\n",
    "\n",
    "train_dataset = BreakHisDataset(\n",
    "    csv_file='/Users/hannahhuangh/Desktop/ds3_project/Folds.csv',\n",
    "    root_dir='/Users/hannahhuangh/Desktop/ds3_project/BreaKHis_v1',\n",
    "    train=True,\n",
    "    transform=transform\n",
    ")\n",
    "\n",
    "val_dataset = BreakHisDataset(\n",
    "    csv_file='/Users/hannahhuangh/Desktop/ds3_project/Folds.csv',\n",
    "    root_dir='/Users/hannahhuangh/Desktop/ds3_project/BreaKHis_v1',\n",
    "    train=False,\n",
    "    transform=transform\n",
    ")\n",
    "\n",
    "train_loader = DataLoader(train_dataset, batch_size=32, shuffle=True, num_workers=0)\n",
    "val_loader = DataLoader(val_dataset, batch_size=32, shuffle=False, num_workers=0)\n",
    "\n"
   ]
  },
  {
   "cell_type": "markdown",
   "metadata": {},
   "source": [
    "### Model Setup\n",
    "\n",
    "I loaded a pretrained ResNet18 model using ImageNet weights (`ResNet18_Weights.DEFAULT`) and moved the model to **GPU** if available to help with faster training.\n"
   ]
  },
  {
   "cell_type": "code",
   "execution_count": 12,
   "metadata": {},
   "outputs": [],
   "source": [
    "from torchvision.models import resnet18, ResNet18_Weights\n",
    "\n",
    "device = torch.device('cuda' if torch.cuda.is_available() else 'cpu')\n",
    "\n",
    "weights = ResNet18_Weights.DEFAULT\n",
    "model = resnet18(weights=weights)\n",
    "\n",
    "model.fc = nn.Linear(model.fc.in_features, 8)\n",
    "\n",
    "model = model.to(device)\n"
   ]
  },
  {
   "cell_type": "code",
   "execution_count": 13,
   "metadata": {},
   "outputs": [],
   "source": [
    "criterion = nn.CrossEntropyLoss()\n",
    "\n",
    "optimizer = optim.Adam(model.parameters(), lr=1e-4)\n",
    "\n",
    "scheduler = optim.lr_scheduler.ReduceLROnPlateau(optimizer, mode='min', factor=0.5, patience=3)"
   ]
  },
  {
   "cell_type": "code",
   "execution_count": 14,
   "metadata": {},
   "outputs": [],
   "source": [
    "def save_checkpoint(state, filename=\"best_model.pth.tar\"):\n",
    "    torch.save(state, filename)\n",
    "\n",
    "best_val_loss = float('inf')\n",
    "epochs_without_improvement = 0\n"
   ]
  },
  {
   "cell_type": "markdown",
   "metadata": {},
   "source": [
    "## Training Time\n",
    "\n",
    "The model was trained over 30 epochs using a standard PyTorch training loop. At each epoch, the model goes through the full training set and was then evaluated on the validation set. Progress was tracked using the `tqdm` progress bar.\n",
    "\n",
    "### Training Procedure\n",
    "\n",
    "1. **Forward pass**: Images are passed through the model.\n",
    "2. **Loss calculation**: Computed using `CrossEntropyLoss`.\n",
    "3. **Backpropagation**: Gradients are computed and used to update the model weights.\n",
    "4. **Evaluation**: After each epoch, the model is evaluated on the validation set.\n",
    "5. **Learning rate adjustment**: Controlled by `ReduceLROnPlateau` scheduler.\n",
    "6. **Checkpointing**: The model is saved whenever validation loss improves.\n",
    "\n",
    "### My Variables\n",
    "\n",
    "| Variable | Description |\n",
    "|----------|-------------|\n",
    "| `train_losses` | List storing average training loss per epoch |\n",
    "| `val_losses` | List storing average validation loss per epoch |\n",
    "| `train_accuracies` | Training accuracy at the end of each epoch |\n",
    "| `val_accuracies` | Validation accuracy at the end of each epoch |\n",
    "| `running_loss` | Accumulates training loss for one epoch |\n",
    "| `correct`, `total` | Track how many predictions were correct / total samples |\n",
    "| `train_loss`, `train_acc` | Averaged loss and accuracy for training set per epoch |\n",
    "| `val_loss`, `val_acc` | Averaged loss and accuracy for validation set per epoch |\n",
    "| `best_val_loss` | Lowest validation loss observed so far |\n",
    "| `epochs_without_improvement` | Counts how many epochs passed without improving validation loss |\n",
    "| `save_checkpoint()` | Saves model weights when `val_loss` improves |"
   ]
  },
  {
   "cell_type": "code",
   "execution_count": 15,
   "metadata": {},
   "outputs": [
    {
     "name": "stderr",
     "output_type": "stream",
     "text": [
      "                                                                                      \r"
     ]
    },
    {
     "name": "stdout",
     "output_type": "stream",
     "text": [
      "Epoch [1/30] Train Loss: 0.3510 Train Acc: 0.8753 Val Loss: 0.1104 Val Acc: 0.9565\n",
      "Saving new best model at epoch 1!\n"
     ]
    },
    {
     "name": "stderr",
     "output_type": "stream",
     "text": [
      "                                                                                         \r"
     ]
    },
    {
     "name": "stdout",
     "output_type": "stream",
     "text": [
      "Epoch [2/30] Train Loss: 0.0836 Train Acc: 0.9672 Val Loss: 0.0544 Val Acc: 0.9742\n",
      "Saving new best model at epoch 2!\n"
     ]
    },
    {
     "name": "stderr",
     "output_type": "stream",
     "text": [
      "                                                                                       \r"
     ]
    },
    {
     "name": "stdout",
     "output_type": "stream",
     "text": [
      "Epoch [3/30] Train Loss: 0.0727 Train Acc: 0.9680 Val Loss: 0.0595 Val Acc: 0.9709\n"
     ]
    },
    {
     "name": "stderr",
     "output_type": "stream",
     "text": [
      "                                                                                       \r"
     ]
    },
    {
     "name": "stdout",
     "output_type": "stream",
     "text": [
      "Epoch [4/30] Train Loss: 0.0521 Train Acc: 0.9763 Val Loss: 0.0392 Val Acc: 0.9787\n",
      "Saving new best model at epoch 4!\n"
     ]
    },
    {
     "name": "stderr",
     "output_type": "stream",
     "text": [
      "                                                                                        \r"
     ]
    },
    {
     "name": "stdout",
     "output_type": "stream",
     "text": [
      "Epoch [5/30] Train Loss: 0.0639 Train Acc: 0.9719 Val Loss: 0.0845 Val Acc: 0.9720\n"
     ]
    },
    {
     "name": "stderr",
     "output_type": "stream",
     "text": [
      "                                                                                        \r"
     ]
    },
    {
     "name": "stdout",
     "output_type": "stream",
     "text": [
      "Epoch [6/30] Train Loss: 0.0479 Train Acc: 0.9770 Val Loss: 0.0251 Val Acc: 0.9884\n",
      "Saving new best model at epoch 6!\n"
     ]
    },
    {
     "name": "stderr",
     "output_type": "stream",
     "text": [
      "                                                                                        \r"
     ]
    },
    {
     "name": "stdout",
     "output_type": "stream",
     "text": [
      "Epoch [7/30] Train Loss: 0.0475 Train Acc: 0.9774 Val Loss: 0.0343 Val Acc: 0.9781\n"
     ]
    },
    {
     "name": "stderr",
     "output_type": "stream",
     "text": [
      "                                                                                        \r"
     ]
    },
    {
     "name": "stdout",
     "output_type": "stream",
     "text": [
      "Epoch [8/30] Train Loss: 0.0455 Train Acc: 0.9777 Val Loss: 0.0388 Val Acc: 0.9758\n"
     ]
    },
    {
     "name": "stderr",
     "output_type": "stream",
     "text": [
      "                                                                                          \r"
     ]
    },
    {
     "name": "stdout",
     "output_type": "stream",
     "text": [
      "Epoch [9/30] Train Loss: 0.0480 Train Acc: 0.9773 Val Loss: 0.0336 Val Acc: 0.9796\n"
     ]
    },
    {
     "name": "stderr",
     "output_type": "stream",
     "text": [
      "                                                                                         \r"
     ]
    },
    {
     "name": "stdout",
     "output_type": "stream",
     "text": [
      "Epoch [10/30] Train Loss: 0.0383 Train Acc: 0.9803 Val Loss: 0.0219 Val Acc: 0.9816\n",
      "Saving new best model at epoch 10!\n"
     ]
    },
    {
     "name": "stderr",
     "output_type": "stream",
     "text": [
      "                                                                                         \r"
     ]
    },
    {
     "name": "stdout",
     "output_type": "stream",
     "text": [
      "Epoch [11/30] Train Loss: 0.0468 Train Acc: 0.9776 Val Loss: 0.0278 Val Acc: 0.9814\n"
     ]
    },
    {
     "name": "stderr",
     "output_type": "stream",
     "text": [
      "                                                                                         \r"
     ]
    },
    {
     "name": "stdout",
     "output_type": "stream",
     "text": [
      "Epoch [12/30] Train Loss: 0.0436 Train Acc: 0.9786 Val Loss: 0.0363 Val Acc: 0.9773\n"
     ]
    },
    {
     "name": "stderr",
     "output_type": "stream",
     "text": [
      "                                                                                         \r"
     ]
    },
    {
     "name": "stdout",
     "output_type": "stream",
     "text": [
      "Epoch [13/30] Train Loss: 0.0332 Train Acc: 0.9821 Val Loss: 0.0222 Val Acc: 0.9816\n"
     ]
    },
    {
     "name": "stderr",
     "output_type": "stream",
     "text": [
      "                                                                                         \r"
     ]
    },
    {
     "name": "stdout",
     "output_type": "stream",
     "text": [
      "Epoch [14/30] Train Loss: 0.0427 Train Acc: 0.9789 Val Loss: 0.0263 Val Acc: 0.9804\n"
     ]
    },
    {
     "name": "stderr",
     "output_type": "stream",
     "text": [
      "                                                                                         \r"
     ]
    },
    {
     "name": "stdout",
     "output_type": "stream",
     "text": [
      "Epoch [15/30] Train Loss: 0.0257 Train Acc: 0.9850 Val Loss: 0.0198 Val Acc: 0.9820\n",
      "Saving new best model at epoch 15!\n"
     ]
    },
    {
     "name": "stderr",
     "output_type": "stream",
     "text": [
      "                                                                                         \r"
     ]
    },
    {
     "name": "stdout",
     "output_type": "stream",
     "text": [
      "Epoch [16/30] Train Loss: 0.0239 Train Acc: 0.9854 Val Loss: 0.0207 Val Acc: 0.9820\n"
     ]
    },
    {
     "name": "stderr",
     "output_type": "stream",
     "text": [
      "                                                                                         \r"
     ]
    },
    {
     "name": "stdout",
     "output_type": "stream",
     "text": [
      "Epoch [17/30] Train Loss: 0.0257 Train Acc: 0.9847 Val Loss: 0.0214 Val Acc: 0.9819\n"
     ]
    },
    {
     "name": "stderr",
     "output_type": "stream",
     "text": [
      "                                                                                         \r"
     ]
    },
    {
     "name": "stdout",
     "output_type": "stream",
     "text": [
      "Epoch [18/30] Train Loss: 0.0278 Train Acc: 0.9838 Val Loss: 0.0206 Val Acc: 0.9817\n"
     ]
    },
    {
     "name": "stderr",
     "output_type": "stream",
     "text": [
      "                                                                                         \r"
     ]
    },
    {
     "name": "stdout",
     "output_type": "stream",
     "text": [
      "Epoch [19/30] Train Loss: 0.0277 Train Acc: 0.9844 Val Loss: 0.0210 Val Acc: 0.9820\n"
     ]
    },
    {
     "name": "stderr",
     "output_type": "stream",
     "text": [
      "                                                                                         \r"
     ]
    },
    {
     "name": "stdout",
     "output_type": "stream",
     "text": [
      "Epoch [20/30] Train Loss: 0.0240 Train Acc: 0.9853 Val Loss: 0.0202 Val Acc: 0.9820\n"
     ]
    },
    {
     "name": "stderr",
     "output_type": "stream",
     "text": [
      "                                                                                         \r"
     ]
    },
    {
     "name": "stdout",
     "output_type": "stream",
     "text": [
      "Epoch [21/30] Train Loss: 0.0232 Train Acc: 0.9856 Val Loss: 0.0203 Val Acc: 0.9820\n"
     ]
    },
    {
     "name": "stderr",
     "output_type": "stream",
     "text": [
      "                                                                                         \r"
     ]
    },
    {
     "name": "stdout",
     "output_type": "stream",
     "text": [
      "Epoch [22/30] Train Loss: 0.0235 Train Acc: 0.9856 Val Loss: 0.0205 Val Acc: 0.9820\n"
     ]
    },
    {
     "name": "stderr",
     "output_type": "stream",
     "text": [
      "                                                                                         \r"
     ]
    },
    {
     "name": "stdout",
     "output_type": "stream",
     "text": [
      "Epoch [23/30] Train Loss: 0.0237 Train Acc: 0.9855 Val Loss: 0.0216 Val Acc: 0.9819\n"
     ]
    },
    {
     "name": "stderr",
     "output_type": "stream",
     "text": [
      "                                                                                         \r"
     ]
    },
    {
     "name": "stdout",
     "output_type": "stream",
     "text": [
      "Epoch [24/30] Train Loss: 0.0232 Train Acc: 0.9856 Val Loss: 0.0203 Val Acc: 0.9820\n"
     ]
    },
    {
     "name": "stderr",
     "output_type": "stream",
     "text": [
      "                                                                                         \r"
     ]
    },
    {
     "name": "stdout",
     "output_type": "stream",
     "text": [
      "Epoch [25/30] Train Loss: 0.0230 Train Acc: 0.9857 Val Loss: 0.0210 Val Acc: 0.9820\n"
     ]
    },
    {
     "name": "stderr",
     "output_type": "stream",
     "text": [
      "                                                                                         \r"
     ]
    },
    {
     "name": "stdout",
     "output_type": "stream",
     "text": [
      "Epoch [26/30] Train Loss: 0.0230 Train Acc: 0.9857 Val Loss: 0.0204 Val Acc: 0.9820\n"
     ]
    },
    {
     "name": "stderr",
     "output_type": "stream",
     "text": [
      "                                                                                         \r"
     ]
    },
    {
     "name": "stdout",
     "output_type": "stream",
     "text": [
      "Epoch [27/30] Train Loss: 0.0231 Train Acc: 0.9855 Val Loss: 0.0205 Val Acc: 0.9820\n"
     ]
    },
    {
     "name": "stderr",
     "output_type": "stream",
     "text": [
      "                                                                                         \r"
     ]
    },
    {
     "name": "stdout",
     "output_type": "stream",
     "text": [
      "Epoch [28/30] Train Loss: 0.0230 Train Acc: 0.9856 Val Loss: 0.0201 Val Acc: 0.9820\n"
     ]
    },
    {
     "name": "stderr",
     "output_type": "stream",
     "text": [
      "                                                                                          \r"
     ]
    },
    {
     "name": "stdout",
     "output_type": "stream",
     "text": [
      "Epoch [29/30] Train Loss: 0.0231 Train Acc: 0.9857 Val Loss: 0.0203 Val Acc: 0.9820\n"
     ]
    },
    {
     "name": "stderr",
     "output_type": "stream",
     "text": [
      "                                                                                         \r"
     ]
    },
    {
     "name": "stdout",
     "output_type": "stream",
     "text": [
      "Epoch [30/30] Train Loss: 0.0229 Train Acc: 0.9857 Val Loss: 0.0201 Val Acc: 0.9820\n"
     ]
    }
   ],
   "source": [
    "num_epochs = 30\n",
    "\n",
    "train_losses = []\n",
    "val_losses = []\n",
    "train_accuracies = []\n",
    "val_accuracies = []\n",
    "\n",
    "for epoch in range(num_epochs):\n",
    "    model.train()\n",
    "    running_loss = 0.0\n",
    "    correct = 0\n",
    "    total = 0\n",
    "\n",
    "    loop = tqdm(train_loader, leave=False)\n",
    "    for images, labels in loop:\n",
    "        images = images.to(device)\n",
    "        labels = labels.to(device)\n",
    "\n",
    "        optimizer.zero_grad()\n",
    "        outputs = model(images)\n",
    "        loss = criterion(outputs, labels)\n",
    "        loss.backward()\n",
    "        optimizer.step()\n",
    "\n",
    "        running_loss += loss.item()\n",
    "        _, predicted = torch.max(outputs, 1)\n",
    "        total += labels.size(0)\n",
    "        correct += (predicted == labels).sum().item()\n",
    "\n",
    "        loop.set_description(f\"Epoch [{epoch+1}/{num_epochs}]\")\n",
    "        loop.set_postfix(loss=loss.item(), acc=100*(correct/total))\n",
    "\n",
    "    train_loss = running_loss / len(train_loader)\n",
    "    train_acc = correct / total\n",
    "    train_losses.append(train_loss)\n",
    "    train_accuracies.append(train_acc)\n",
    "\n",
    "    model.eval()\n",
    "    val_loss = 0.0\n",
    "    val_correct = 0\n",
    "    val_total = 0\n",
    "\n",
    "    with torch.no_grad():\n",
    "        for images, labels in val_loader:\n",
    "            images = images.to(device)\n",
    "            labels = labels.to(device)\n",
    "\n",
    "            outputs = model(images)\n",
    "            loss = criterion(outputs, labels)\n",
    "\n",
    "            val_loss += loss.item()\n",
    "            _, predicted = torch.max(outputs, 1)\n",
    "            val_total += labels.size(0)\n",
    "            val_correct += (predicted == labels).sum().item()\n",
    "\n",
    "    val_loss = val_loss / len(val_loader)\n",
    "    val_acc = val_correct / val_total\n",
    "    val_losses.append(val_loss)\n",
    "    val_accuracies.append(val_acc)\n",
    "\n",
    "    scheduler.step(val_loss)\n",
    "\n",
    "    print(f\"Epoch [{epoch+1}/{num_epochs}] \"\n",
    "          f\"Train Loss: {train_loss:.4f} \"\n",
    "          f\"Train Acc: {train_acc:.4f} \"\n",
    "          f\"Val Loss: {val_loss:.4f} \"\n",
    "          f\"Val Acc: {val_acc:.4f}\")\n",
    "\n",
    "    if val_loss < best_val_loss:\n",
    "        print(f\"Saving new best model at epoch {epoch+1}!\")\n",
    "        save_checkpoint({'state_dict': model.state_dict()}, filename=\"best_model.pth.tar\")\n",
    "        best_val_loss = val_loss\n",
    "        epochs_without_improvement = 0\n",
    "    else:\n",
    "        epochs_without_improvement += 1"
   ]
  },
  {
   "cell_type": "code",
   "execution_count": 16,
   "metadata": {},
   "outputs": [],
   "source": [
    "torch.save(model.state_dict(), \"cancer_model.pth\")\n"
   ]
  },
  {
   "cell_type": "code",
   "execution_count": 17,
   "metadata": {},
   "outputs": [
    {
     "data": {
      "text/plain": [
       "ResNet(\n",
       "  (conv1): Conv2d(3, 64, kernel_size=(7, 7), stride=(2, 2), padding=(3, 3), bias=False)\n",
       "  (bn1): BatchNorm2d(64, eps=1e-05, momentum=0.1, affine=True, track_running_stats=True)\n",
       "  (relu): ReLU(inplace=True)\n",
       "  (maxpool): MaxPool2d(kernel_size=3, stride=2, padding=1, dilation=1, ceil_mode=False)\n",
       "  (layer1): Sequential(\n",
       "    (0): BasicBlock(\n",
       "      (conv1): Conv2d(64, 64, kernel_size=(3, 3), stride=(1, 1), padding=(1, 1), bias=False)\n",
       "      (bn1): BatchNorm2d(64, eps=1e-05, momentum=0.1, affine=True, track_running_stats=True)\n",
       "      (relu): ReLU(inplace=True)\n",
       "      (conv2): Conv2d(64, 64, kernel_size=(3, 3), stride=(1, 1), padding=(1, 1), bias=False)\n",
       "      (bn2): BatchNorm2d(64, eps=1e-05, momentum=0.1, affine=True, track_running_stats=True)\n",
       "    )\n",
       "    (1): BasicBlock(\n",
       "      (conv1): Conv2d(64, 64, kernel_size=(3, 3), stride=(1, 1), padding=(1, 1), bias=False)\n",
       "      (bn1): BatchNorm2d(64, eps=1e-05, momentum=0.1, affine=True, track_running_stats=True)\n",
       "      (relu): ReLU(inplace=True)\n",
       "      (conv2): Conv2d(64, 64, kernel_size=(3, 3), stride=(1, 1), padding=(1, 1), bias=False)\n",
       "      (bn2): BatchNorm2d(64, eps=1e-05, momentum=0.1, affine=True, track_running_stats=True)\n",
       "    )\n",
       "  )\n",
       "  (layer2): Sequential(\n",
       "    (0): BasicBlock(\n",
       "      (conv1): Conv2d(64, 128, kernel_size=(3, 3), stride=(2, 2), padding=(1, 1), bias=False)\n",
       "      (bn1): BatchNorm2d(128, eps=1e-05, momentum=0.1, affine=True, track_running_stats=True)\n",
       "      (relu): ReLU(inplace=True)\n",
       "      (conv2): Conv2d(128, 128, kernel_size=(3, 3), stride=(1, 1), padding=(1, 1), bias=False)\n",
       "      (bn2): BatchNorm2d(128, eps=1e-05, momentum=0.1, affine=True, track_running_stats=True)\n",
       "      (downsample): Sequential(\n",
       "        (0): Conv2d(64, 128, kernel_size=(1, 1), stride=(2, 2), bias=False)\n",
       "        (1): BatchNorm2d(128, eps=1e-05, momentum=0.1, affine=True, track_running_stats=True)\n",
       "      )\n",
       "    )\n",
       "    (1): BasicBlock(\n",
       "      (conv1): Conv2d(128, 128, kernel_size=(3, 3), stride=(1, 1), padding=(1, 1), bias=False)\n",
       "      (bn1): BatchNorm2d(128, eps=1e-05, momentum=0.1, affine=True, track_running_stats=True)\n",
       "      (relu): ReLU(inplace=True)\n",
       "      (conv2): Conv2d(128, 128, kernel_size=(3, 3), stride=(1, 1), padding=(1, 1), bias=False)\n",
       "      (bn2): BatchNorm2d(128, eps=1e-05, momentum=0.1, affine=True, track_running_stats=True)\n",
       "    )\n",
       "  )\n",
       "  (layer3): Sequential(\n",
       "    (0): BasicBlock(\n",
       "      (conv1): Conv2d(128, 256, kernel_size=(3, 3), stride=(2, 2), padding=(1, 1), bias=False)\n",
       "      (bn1): BatchNorm2d(256, eps=1e-05, momentum=0.1, affine=True, track_running_stats=True)\n",
       "      (relu): ReLU(inplace=True)\n",
       "      (conv2): Conv2d(256, 256, kernel_size=(3, 3), stride=(1, 1), padding=(1, 1), bias=False)\n",
       "      (bn2): BatchNorm2d(256, eps=1e-05, momentum=0.1, affine=True, track_running_stats=True)\n",
       "      (downsample): Sequential(\n",
       "        (0): Conv2d(128, 256, kernel_size=(1, 1), stride=(2, 2), bias=False)\n",
       "        (1): BatchNorm2d(256, eps=1e-05, momentum=0.1, affine=True, track_running_stats=True)\n",
       "      )\n",
       "    )\n",
       "    (1): BasicBlock(\n",
       "      (conv1): Conv2d(256, 256, kernel_size=(3, 3), stride=(1, 1), padding=(1, 1), bias=False)\n",
       "      (bn1): BatchNorm2d(256, eps=1e-05, momentum=0.1, affine=True, track_running_stats=True)\n",
       "      (relu): ReLU(inplace=True)\n",
       "      (conv2): Conv2d(256, 256, kernel_size=(3, 3), stride=(1, 1), padding=(1, 1), bias=False)\n",
       "      (bn2): BatchNorm2d(256, eps=1e-05, momentum=0.1, affine=True, track_running_stats=True)\n",
       "    )\n",
       "  )\n",
       "  (layer4): Sequential(\n",
       "    (0): BasicBlock(\n",
       "      (conv1): Conv2d(256, 512, kernel_size=(3, 3), stride=(2, 2), padding=(1, 1), bias=False)\n",
       "      (bn1): BatchNorm2d(512, eps=1e-05, momentum=0.1, affine=True, track_running_stats=True)\n",
       "      (relu): ReLU(inplace=True)\n",
       "      (conv2): Conv2d(512, 512, kernel_size=(3, 3), stride=(1, 1), padding=(1, 1), bias=False)\n",
       "      (bn2): BatchNorm2d(512, eps=1e-05, momentum=0.1, affine=True, track_running_stats=True)\n",
       "      (downsample): Sequential(\n",
       "        (0): Conv2d(256, 512, kernel_size=(1, 1), stride=(2, 2), bias=False)\n",
       "        (1): BatchNorm2d(512, eps=1e-05, momentum=0.1, affine=True, track_running_stats=True)\n",
       "      )\n",
       "    )\n",
       "    (1): BasicBlock(\n",
       "      (conv1): Conv2d(512, 512, kernel_size=(3, 3), stride=(1, 1), padding=(1, 1), bias=False)\n",
       "      (bn1): BatchNorm2d(512, eps=1e-05, momentum=0.1, affine=True, track_running_stats=True)\n",
       "      (relu): ReLU(inplace=True)\n",
       "      (conv2): Conv2d(512, 512, kernel_size=(3, 3), stride=(1, 1), padding=(1, 1), bias=False)\n",
       "      (bn2): BatchNorm2d(512, eps=1e-05, momentum=0.1, affine=True, track_running_stats=True)\n",
       "    )\n",
       "  )\n",
       "  (avgpool): AdaptiveAvgPool2d(output_size=(1, 1))\n",
       "  (fc): Linear(in_features=512, out_features=8, bias=True)\n",
       ")"
      ]
     },
     "execution_count": 17,
     "metadata": {},
     "output_type": "execute_result"
    }
   ],
   "source": [
    "import torch\n",
    "\n",
    "# Load and apply the best saved model\n",
    "checkpoint = torch.load(\"best_model.pth.tar\", map_location=device)\n",
    "model.load_state_dict(checkpoint['state_dict'])\n",
    "model.eval()"
   ]
  },
  {
   "cell_type": "markdown",
   "metadata": {},
   "source": [
    "### Collecting Information\n",
    "\n",
    "Now that all the training has been complete, it is time to look at what everything means."
   ]
  },
  {
   "cell_type": "code",
   "execution_count": 18,
   "metadata": {},
   "outputs": [],
   "source": [
    "all_preds = []\n",
    "all_labels = []\n",
    "\n",
    "with torch.no_grad():\n",
    "    for images, labels in val_loader:\n",
    "        images = images.to(device)\n",
    "        labels = labels.to(device)\n",
    "\n",
    "        outputs = model(images)\n",
    "        _, predicted = torch.max(outputs, 1)\n",
    "\n",
    "        all_preds.extend(predicted.cpu().numpy())\n",
    "        all_labels.extend(labels.cpu().numpy())\n"
   ]
  },
  {
   "cell_type": "markdown",
   "metadata": {},
   "source": [
    "## Classification Report\n",
    "\n",
    "After collecting predictions on the validation set, I generated a **classification report** using `sklearn.metrics.classification_report`.\n",
    "\n",
    "This report provides detailed metrics for each of the 8 tumor subtypes:\n",
    "\n",
    "- **Precision**: How many of the predicted labels for a class were correct\n",
    "- **Recall**: How many actual samples of a class were correctly identified\n",
    "- **F1-score**: Harmonic mean of precision and recall (useful for class imbalance)\n",
    "- **Support**: Number of\n"
   ]
  },
  {
   "cell_type": "code",
   "execution_count": 19,
   "metadata": {},
   "outputs": [
    {
     "name": "stdout",
     "output_type": "stream",
     "text": [
      "📊 Classification Report:\n",
      "                     precision    recall  f1-score   support\n",
      "\n",
      "           adenosis      1.000     1.000     1.000      1081\n",
      "       fibroadenoma      1.000     1.000     1.000      1385\n",
      "    phyllodes_tumor      1.000     1.000     1.000       846\n",
      "    tubular_adenoma      1.000     1.000     1.000      1203\n",
      "   ductal_carcinoma      1.000     0.956     0.977      5538\n",
      "  lobular_carcinoma      0.830     1.000     0.907      1203\n",
      " mucinous_carcinoma      1.000     1.000     1.000      1514\n",
      "papillary_carcinoma      1.000     1.000     1.000       895\n",
      "\n",
      "           accuracy                          0.982     13665\n",
      "          macro avg      0.979     0.994     0.986     13665\n",
      "       weighted avg      0.985     0.982     0.983     13665\n",
      "\n"
     ]
    }
   ],
   "source": [
    "from sklearn.metrics import classification_report\n",
    "\n",
    "tumor_types = [\n",
    "    \"adenosis\", \"fibroadenoma\", \"phyllodes_tumor\", \"tubular_adenoma\",\n",
    "    \"ductal_carcinoma\", \"lobular_carcinoma\", \"mucinous_carcinoma\", \"papillary_carcinoma\"\n",
    "]\n",
    "\n",
    "print(\"📊 Classification Report:\")\n",
    "print(classification_report(all_labels, all_preds, target_names=tumor_types, digits=3))\n"
   ]
  },
  {
   "cell_type": "markdown",
   "metadata": {},
   "source": [
    "### Confusion Matrices\n",
    "Below, I created two confusion matricies to compare the accuracy results based on different subgroups."
   ]
  },
  {
   "cell_type": "code",
   "execution_count": 23,
   "metadata": {},
   "outputs": [
    {
     "data": {
      "image/png": "[encoded data removed]",
      "text/plain": [
       "<Figure size 1000x800 with 2 Axes>"
      ]
     },
     "metadata": {},
     "output_type": "display_data"
    }
   ],
   "source": [
    "import seaborn as sns\n",
    "import matplotlib.pyplot as plt\n",
    "from sklearn.metrics import confusion_matrix\n",
    "\n",
    "cm = confusion_matrix(all_labels, all_preds)\n",
    "\n",
    "plt.figure(figsize=(10, 8))\n",
    "sns.heatmap(cm, annot=True, fmt='d', cmap='Blues',\n",
    "            xticklabels=tumor_types, yticklabels=tumor_types)\n",
    "\n",
    "plt.title(\"Confusion Matrix\")\n",
    "plt.xlabel(\"Predicted\")\n",
    "plt.ylabel(\"Actual\")\n",
    "plt.xticks(rotation=45)\n",
    "plt.tight_layout()\n",
    "plt.show()\n"
   ]
  },
  {
   "cell_type": "code",
   "execution_count": 24,
   "metadata": {},
   "outputs": [],
   "source": [
    "# Define which class indices are benign vs malignant\n",
    "benign_indices = [0, 1, 2, 3]\n",
    "malignant_indices = [4, 5, 6, 7]\n",
    "\n",
    "# Convert multi-class to binary (0 = benign, 1 = malignant)\n",
    "binary_labels = [0 if label in benign_indices else 1 for label in all_labels]\n",
    "binary_preds = [0 if pred in benign_indices else 1 for pred in all_preds]\n"
   ]
  },
  {
   "cell_type": "code",
   "execution_count": null,
   "metadata": {},
   "outputs": [
    {
     "name": "stdout",
     "output_type": "stream",
     "text": [
      "📊 Binary (Benign vs Malignant) Confusion Matrix:\n",
      "[[4515    0]\n",
      " [   0 9150]]\n"
     ]
    }
   ],
   "source": [
    "from sklearn.metrics import confusion_matrix\n",
    "\n",
    "binary_cm = confusion_matrix(binary_labels, binary_preds)\n",
    "\n",
    "print(\"📊 Binary (Benign vs Malignant) Confusion Matrix:\")\n",
    "print(binary_cm)\n"
   ]
  },
  {
   "cell_type": "code",
   "execution_count": 26,
   "metadata": {},
   "outputs": [
    {
     "data": {
      "image/png": "[encoded data removed]",
      "text/plain": [
       "<Figure size 500x400 with 2 Axes>"
      ]
     },
     "metadata": {},
     "output_type": "display_data"
    }
   ],
   "source": [
    "import seaborn as sns\n",
    "import matplotlib.pyplot as plt\n",
    "from sklearn.metrics import confusion_matrix\n",
    "\n",
    "# 1. Define tumor groupings\n",
    "benign_indices = [0, 1, 2, 3]\n",
    "malignant_indices = [4, 5, 6, 7]\n",
    "\n",
    "# 2. Convert predictions and labels to binary: 0 = benign, 1 = malignant\n",
    "binary_labels = [0 if label in benign_indices else 1 for label in all_labels]\n",
    "binary_preds = [0 if pred in benign_indices else 1 for pred in all_preds]\n",
    "\n",
    "# 3. Compute the 2x2 confusion matrix\n",
    "binary_cm = confusion_matrix(binary_labels, binary_preds)\n",
    "\n",
    "# 4. Plot the matrix\n",
    "plt.figure(figsize=(5, 4))\n",
    "sns.heatmap(binary_cm, annot=True, fmt='d', cmap='YlGnBu',\n",
    "            xticklabels=[\"Benign\", \"Malignant\"],\n",
    "            yticklabels=[\"Benign\", \"Malignant\"])\n",
    "\n",
    "plt.xlabel(\"Predicted Label\")\n",
    "plt.ylabel(\"True Label\")\n",
    "plt.title(\"2x2 Confusion Matrix: Benign vs Malignant\")\n",
    "plt.tight_layout()\n",
    "plt.show()\n"
   ]
  }
 ],
 "metadata": {
  "kernelspec": {
   "display_name": "Python 3 (ipykernel)",
   "language": "python",
   "name": "python3"
  },
  "language_info": {
   "codemirror_mode": {
    "name": "ipython",
    "version": 3
   },
   "file_extension": ".py",
   "mimetype": "text/x-python",
   "name": "python",
   "nbconvert_exporter": "python",
   "pygments_lexer": "ipython3",
   "version": "3.12.0"
  }
 },
 "nbformat": 4,
 "nbformat_minor": 4
}
