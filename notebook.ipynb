{
 "cells": [
  {
   "cell_type": "markdown",
   "id": "5b34454c",
   "metadata": {},
   "source": [
    "# Project Focus\n",
    "This project focuses on identifying certain types of breast cancer tumors in a given tissue sample. While some types of tumors are benign, such as adenosis, fibroadenoma, phyllodes tumor, and tubular adenoma tumors, others are malignant and must be treated imminently, including carcinoma, lobular carcinoma, mucinous carcinoma, and papillary carcinoma. We utilized an ____ model to accurately, but also quickly, identify tumor types."
   ]
  },
  {
   "cell_type": "markdown",
   "id": "0f64a631",
   "metadata": {},
   "source": [
    "# BreakHis Dataset\n",
    "The BreakHis dataset contains 9109 images of breast tumor tissue that comes from 82 patients. Each image is magnified by either 40x, 100x, 200x, or 400x. Each image is a 700X460 pixel, RGB, 8-bit depth, PNG image. Additionally, images are separated into multiple types of benign and malignant tumors, with 2,480 benign and 5,429 malignant images. The types of benign tumors are adenosis (A), fibroadenoma (F), phyllodes tumor (PT), and tubular adenoma (TA), and the types of malignant tumors are carcinoma (DC), lobular carcinoma (LC), mucinous carcinoma (MC), and papillary carcinoma (PC). The dataset collected samples for imaging through partial mastectomy or excisional biopsy."
   ]
  },
  {
   "cell_type": "markdown",
   "id": "c06c0f69",
   "metadata": {},
   "source": [
    "# Methodology\n",
    "(This is an example, not sure how we want to do all of this)\n",
    "ViT model: Since the dataset was already split into training and testing categories, I used these distinctions to train the model as well. While I originally used a binary cross-entropy loss function for drawing distinctions purely between possible malignant and benign tumors, I eventually transitioned to a cross-entropy loss function to attempt to identify all 8 different tumor types. Training the models required adding transformations to the training image set to reduce overfitting.\n"
   ]
  },
  {
   "cell_type": "code",
   "execution_count": null,
   "id": "9da6ecb1",
   "metadata": {},
   "outputs": [],
   "source": [
    "import os\n",
    "import numpy as np\n",
    "import pandas as pd\n",
    "from PIL import Image\n",
    "import time\n",
    "\n",
    "import torch\n",
    "import torch.nn as nn\n",
    "from torch.optim import AdamW\n",
    "from torch.utils.data import DataLoader, Dataset\n",
    "import torchvision.transforms as T\n",
    "import torch.backends.cudnn as cudnn\n",
    "from torch.optim.lr_scheduler import OneCycleLR\n",
    "\n",
    "# data visualization (TODO: decide how to visual the data)"
   ]
  },
  {
   "cell_type": "code",
   "execution_count": null,
   "id": "347e9bf6",
   "metadata": {},
   "outputs": [],
   "source": [
    "# Example dataset loading (unsure if this is the same for all of us)\n",
    "\n",
    "class BreakHisDataset(Dataset):\n",
    "  def __init__(self, csv_file, root_dir, train=True, transform=None):\n",
    "    \n",
    "    self.data_frame = pd.read_csv(csv_file)\n",
    "    self.root_dir = root_dir\n",
    "    self.transform = transform\n",
    "\n",
    "    if train:\n",
    "      self.data_frame = self.data_frame[self.data_frame['grp'].str.lower() == \"train\"]\n",
    "    else:\n",
    "      self.data_frame = self.data_frame[self.data_frame['grp'].str.lower() == \"test\"]\n",
    "    \n",
    "    self.data_frame.reset_index(drop=True, inplace=True)\n",
    "\n",
    "  def __len__(self):\n",
    "    return len(self.data_frame)\n",
    "\n",
    "  def __getitem__(self, idx):\n",
    "    row = self.data_frame.iloc[idx]\n",
    "    filename = row['filename']\n",
    "    \n",
    "    img_path = os.path.join(self.root_dir, filename)\n",
    "    image = Image.open(img_path).convert('RGB')\n",
    "  \n",
    "    lower_filename = filename.lower()\n",
    "    if \"adenosis\" in lower_filename:\n",
    "      label = 0\n",
    "    elif \"fibroadenoma\" in lower_filename:\n",
    "      label = 1\n",
    "    elif \"phyllodes_tumor\" in lower_filename:\n",
    "      label = 2\n",
    "    elif \"tubular_adenoma\" in lower_filename:\n",
    "      label = 3\n",
    "    elif \"ductal_carcinoma\" in lower_filename:\n",
    "      label = 4\n",
    "    elif \"lobular_carcinoma\" in lower_filename:\n",
    "      label = 5\n",
    "    elif \"mucinous_carcinoma\" in lower_filename:\n",
    "      label = 6\n",
    "    elif \"papillary_carcinoma\" in lower_filename:\n",
    "      label = 7\n",
    "    else:\n",
    "      raise ValueError(f\"Cannot determine label from filename: {filename}\")\n",
    "\n",
    "    if self.transform:\n",
    "      image = self.transform(image)\n",
    "    return image, label"
   ]
  }
 ],
 "metadata": {
  "kernelspec": {
   "display_name": ".venv",
   "language": "python",
   "name": "python3"
  },
  "language_info": {
   "name": "python",
   "version": "3.12.3"
  }
 },
 "nbformat": 4,
 "nbformat_minor": 5
}
