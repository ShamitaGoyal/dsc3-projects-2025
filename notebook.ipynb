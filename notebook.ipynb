{
 "cells": [
  {
   "cell_type": "markdown",
   "id": "5b34454c",
   "metadata": {},
   "source": [
    "# Project Focus\n",
    "This project focuses on identifying certain types of breast cancer tumors in a given tissue sample. While some types of tumors are benign, such as adenosis, fibroadenoma, phyllodes tumor, and tubular adenoma tumors, others are malignant and must be treated imminently, including carcinoma, lobular carcinoma, mucinous carcinoma, and papillary carcinoma. We utilized an ____ model to accurately, but also quickly, identify tumor types."
   ]
  },
  {
   "cell_type": "markdown",
   "id": "0f64a631",
   "metadata": {},
   "source": [
    "# BreakHis Dataset\n",
    "The BreakHis dataset contains 9109 images of breast tumor tissue that comes from 82 patients. Each image is magnified by either 40x, 100x, 200x, or 400x. Each image is a 700X460 pixel, RGB, 8-bit depth, PNG image. Additionally, images are separated into multiple types of benign and malignant tumors, with 2,480 benign and 5,429 malignant images. The types of benign tumors are adenosis (A), fibroadenoma (F), phyllodes tumor (PT), and tubular adenoma (TA), and the types of malignant tumors are carcinoma (DC), lobular carcinoma (LC), mucinous carcinoma (MC), and papillary carcinoma (PC). The dataset collected samples for imaging through partial mastectomy or excisional biopsy."
   ]
  },
  {
   "cell_type": "code",
   "execution_count": null,
   "id": "347e9bf6",
   "metadata": {},
   "outputs": [],
   "source": [
    "# Data Cleaning\n",
    "# Data should already be cleaned, will elaborate later after I get confirmation from everyone's code"
   ]
  }
 ],
 "metadata": {
  "kernelspec": {
   "display_name": ".venv",
   "language": "python",
   "name": "python3"
  },
  "language_info": {
   "name": "python",
   "version": "3.12.3"
  }
 },
 "nbformat": 4,
 "nbformat_minor": 5
}
